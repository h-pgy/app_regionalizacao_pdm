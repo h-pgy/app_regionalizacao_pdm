{
 "cells": [
  {
   "cell_type": "code",
   "execution_count": 1,
   "id": "c5516ea5-30c6-4f74-9a3c-fa44b0a6aca6",
   "metadata": {},
   "outputs": [],
   "source": [
    "import pandas as pd\n",
    "import geopandas as gpd"
   ]
  },
  {
   "cell_type": "code",
   "execution_count": 2,
   "id": "a81c1584-b9eb-43a4-adef-f155ec7a44d0",
   "metadata": {},
   "outputs": [],
   "source": [
    "df = pd.read_csv('dados_regionalizacao_pdm.csv', sep=';')"
   ]
  },
  {
   "cell_type": "code",
   "execution_count": 3,
   "id": "f0da3074-0e5d-4c07-87bf-923359084848",
   "metadata": {},
   "outputs": [],
   "source": [
    "def add_subs_code(df):\n",
    "    \n",
    "    df = df.copy()\n",
    "    \n",
    "    de_para_subs = {\n",
    "        'Aricanduva/Vila Formosa' : '26',\n",
    "        'Butantã' : '10',\n",
    "         'Campo Limpo' : '17',\n",
    "         'Capela do Socorro' : '19',\n",
    "         'Casa Verde' : '04',\n",
    "         'Cidade Ademar' : '16',\n",
    "         'Cidade Tiradentes' : '31',\n",
    "         'Ermelino Matarazzo' : '22',\n",
    "         'Freguesia do Ó/Brasilândia' : '03',\n",
    "         'Guaianases' : '28',\n",
    "         'Ipiranga' : '13',\n",
    "         'Itaim Paulista' : '24',\n",
    "         'Itaquera' : '27',\n",
    "         'Jabaquara' : '15',\n",
    "         'Jaçanã/Tremembé' : '06',\n",
    "         'Lapa' : '08',\n",
    "         \"M'Boi Mirim\" : '18',\n",
    "         'Mooca' : '25',\n",
    "         'Parelheiros' : '20',\n",
    "         'Penha' : '21',\n",
    "         'Perus' : '01',\n",
    "         'Pinheiros' : '11',\n",
    "         'Pirituba/Jaraguá' : '02',\n",
    "         'Santana/Tucuruvi' : '05',\n",
    "         'Santo Amaro' : '14',\n",
    "         'São Mateus' : '30',\n",
    "         'São Miguel Paulista' : '23',\n",
    "         'Sapopemba' : '32',\n",
    "         'Sé' : '09',\n",
    "         'Vila Maria/Vila Guilherme' : '07',\n",
    "         'Vila Mariana' : '12',\n",
    "         'Vila Prudente' : '29',\n",
    "\n",
    "    }\n",
    "    \n",
    "    df['codigo_subs'] = df['subprefeitura/zona'].apply(lambda x: de_para_subs.get(x))\n",
    "    \n",
    "    return df"
   ]
  },
  {
   "cell_type": "code",
   "execution_count": 4,
   "id": "7719e1c5-0439-4a8e-8ef2-670e34cf04f3",
   "metadata": {},
   "outputs": [],
   "source": [
    "def add_zona_code(df):\n",
    "    \n",
    "    df = df.copy()\n",
    "    \n",
    "    de_para_zonas = {'LESTE' : 2, \n",
    "                'NORTE' : 3, \n",
    "                'CENTRO' : 1, \n",
    "                'OESTE' : 4, \n",
    "                'SUL' : 5}\n",
    "    \n",
    "    df['codigo_zonas'] =  df['subprefeitura/zona'].apply(lambda x: de_para_zonas.get(x))\n",
    "    \n",
    "    return df"
   ]
  },
  {
   "cell_type": "code",
   "execution_count": 5,
   "id": "9a31bb29-e346-4b32-8bd6-b556f7b48d73",
   "metadata": {},
   "outputs": [],
   "source": [
    "df = add_subs_code(df)"
   ]
  },
  {
   "cell_type": "code",
   "execution_count": 6,
   "id": "3075d5a8-6b0e-42ca-8000-bfdace9720b4",
   "metadata": {},
   "outputs": [],
   "source": [
    "df = add_zona_code(df)"
   ]
  },
  {
   "cell_type": "code",
   "execution_count": 7,
   "id": "420615d5-d287-4ed4-ac39-d8cc9d70e703",
   "metadata": {},
   "outputs": [],
   "source": [
    "df.to_csv('dados_regionalizacao_pdm.csv', sep=';', quotechar='\"', encoding='utf-8')"
   ]
  },
  {
   "cell_type": "code",
   "execution_count": null,
   "id": "c266cab4-3532-44ca-b373-3b25045db6db",
   "metadata": {},
   "outputs": [],
   "source": []
  }
 ],
 "metadata": {
  "kernelspec": {
   "display_name": "Python 3",
   "language": "python",
   "name": "python3"
  },
  "language_info": {
   "codemirror_mode": {
    "name": "ipython",
    "version": 3
   },
   "file_extension": ".py",
   "mimetype": "text/x-python",
   "name": "python",
   "nbconvert_exporter": "python",
   "pygments_lexer": "ipython3",
   "version": "3.8.8"
  }
 },
 "nbformat": 4,
 "nbformat_minor": 5
}

{
 "cells": [
  {
   "cell_type": "code",
   "execution_count": 1,
   "id": "29125a27-328a-4af7-a60d-d24607a0b3ec",
   "metadata": {},
   "outputs": [],
   "source": [
    "import pandas as pd\n",
    "from openpyxl import load_workbook\n",
    "import os"
   ]
  },
  {
   "cell_type": "code",
   "execution_count": 2,
   "id": "a1728676-5b42-4752-bfb7-0e7f836bf929",
   "metadata": {},
   "outputs": [],
   "source": [
    "def read_sheet_regio(wb):\n",
    "    \n",
    "    sheet_regio_name = 'Regionalização'\n",
    "    if sheet_regio_name not in wb.sheetnames:\n",
    "        raise ValueError(f'File {file_path} sem aba regionalização')\n",
    "    sheet_regio = wb[sheet_regio_name]\n",
    "    regio_data = sheet_regio['B3':'C39']\n",
    "    \n",
    "    data = {'subprefeitura/zona' : [],\n",
    "            'valor' : []}\n",
    "    for row in regio_data:\n",
    "        data['subprefeitura/zona'].append(row[0].value)\n",
    "        data['valor'].append(row[1].value)\n",
    "        \n",
    "    return pd.DataFrame(data)"
   ]
  },
  {
   "cell_type": "code",
   "execution_count": 3,
   "id": "71bfd5d5-a13d-4702-847b-410a078faf39",
   "metadata": {},
   "outputs": [],
   "source": [
    "def read_dados_meta(wb):\n",
    "    \n",
    "    sheet_ficha_tecnica = 'Ficha técnica Meta '\n",
    "    if sheet_ficha_tecnica not in wb.sheetnames:\n",
    "        raise ValueError(f'File {file_path} sem aba ficha técnica')\n",
    "    \n",
    "    sheet_ficha = wb[sheet_ficha_tecnica]\n",
    "    \n",
    "    dados = {'secretaria' : sheet_ficha['C4'].value,\n",
    "            'numero_meta' : sheet_ficha['C5'].value,\n",
    "            'meta' : sheet_ficha['C6'].value,\n",
    "            'indicador' : sheet_ficha['C9'].value}\n",
    "    \n",
    "    return dados"
   ]
  },
  {
   "cell_type": "code",
   "execution_count": 4,
   "id": "18735cab-1c0f-47e4-8d91-9fce6942c0f8",
   "metadata": {},
   "outputs": [],
   "source": [
    "def get_dados_file(file_path):\n",
    "    try:\n",
    "        wb = load_workbook(file_path)\n",
    "        dados_ficha = read_dados_meta(wb)\n",
    "        dados_regio = read_sheet_regio(wb)\n",
    "\n",
    "        for col, val in dados_ficha.items():\n",
    "            dados_regio[col] = val\n",
    "\n",
    "        return dados_regio\n",
    "    except Exception as e:\n",
    "        print(file_path)\n",
    "        print(e)\n",
    "        return pd.DataFrame()\n",
    "        \n",
    "    "
   ]
  },
  {
   "cell_type": "code",
   "execution_count": 5,
   "id": "96efebdf-42f8-47bc-aa13-4172e640db8e",
   "metadata": {},
   "outputs": [],
   "source": [
    "def get_dados_all_files(data_dir):\n",
    "    \n",
    "    files = [os.path.join(data_dir, file) for file\n",
    "            in os.listdir(data_dir) \n",
    "             if 'xls' in file.split('.')[-1]]\n",
    "    \n",
    "    dfs = []\n",
    "    for file in files:\n",
    "        dfs.append(get_dados_file(file))\n",
    "    \n",
    "    return pd.concat(dfs)"
   ]
  },
  {
   "cell_type": "code",
   "execution_count": 6,
   "id": "70b0febc-bb43-480c-9982-9e49fc6be4ac",
   "metadata": {},
   "outputs": [],
   "source": [
    "df = get_dados_all_files('original_data/fichas_metas/')"
   ]
  },
  {
   "cell_type": "code",
   "execution_count": 11,
   "id": "60e9142a-96d1-4a52-885d-e0877e7cb097",
   "metadata": {},
   "outputs": [
    {
     "data": {
      "text/plain": [
       "subprefeitura/zona    False\n",
       "valor                  True\n",
       "secretaria            False\n",
       "numero_meta           False\n",
       "meta                  False\n",
       "indicador             False\n",
       "dtype: bool"
      ]
     },
     "execution_count": 11,
     "metadata": {},
     "output_type": "execute_result"
    }
   ],
   "source": [
    "df.isnull().any()"
   ]
  },
  {
   "cell_type": "code",
   "execution_count": 13,
   "id": "ebcf8396-35b2-495f-bebb-6779488bb39e",
   "metadata": {},
   "outputs": [],
   "source": [
    "df.to_csv('dados_regionalizacao_pdm.csv', encoding='utf-8', sep=';', quotechar='\"', index=False)"
   ]
  },
  {
   "cell_type": "code",
   "execution_count": null,
   "id": "01a37f32-7524-4b2d-a3e8-26e2a8320a80",
   "metadata": {},
   "outputs": [],
   "source": []
  }
 ],
 "metadata": {
  "kernelspec": {
   "display_name": "Python 3",
   "language": "python",
   "name": "python3"
  },
  "language_info": {
   "codemirror_mode": {
    "name": "ipython",
    "version": 3
   },
   "file_extension": ".py",
   "mimetype": "text/x-python",
   "name": "python",
   "nbconvert_exporter": "python",
   "pygments_lexer": "ipython3",
   "version": "3.8.8"
  }
 },
 "nbformat": 4,
 "nbformat_minor": 5
}
